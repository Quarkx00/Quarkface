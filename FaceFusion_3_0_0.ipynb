{
 "cells": [
  {
   "cell_type": "markdown",
   "metadata": {
    "id": "CzF2tF238ahA"
   },
   "source": [
    "---\n",
    "\n",
    "**Last Update : 14 September 2024**\n",
    "\n",
    "---"
   ]
  },
  {
   "cell_type": "code",
   "execution_count": null,
   "metadata": {
    "cellView": "form",
    "id": "ZlrnUA3i3gMB"
   },
   "outputs": [],
   "source": [
    "#@markdown # Step 1 (6 Minutes)\n",
    "\n",
    "from IPython.display import clear_output\n",
    "import torch\n",
    "import codecs\n",
    "\n",
    "if torch.cuda.is_available():\n",
    "  !apt-get update\n",
    "  !apt-get install -y nvidia-cuda-toolkit\n",
    "  device=\"cuda\"\n",
    "  print(\"Using GPU\")\n",
    "else:\n",
    "  device=\"cpu\"\n",
    "  print(\"Using CPU\")\n",
    "\n",
    "if torch.cuda.is_available():\n",
    "  !apt-get update\n",
    "  !apt-get install -y nvidia-cuda-toolkit\n",
    "  device=\"cuda\"\n",
    "  print(\"Using GPU\")\n",
    "else:\n",
    "  device=\"cpu\"\n",
    "  print(\"Using CPU\")\n",
    "  !git clone https://github.com/Quarkx00/facefusion-nsfw-.git\n",
    "  %cd /content/facefusion-nsfw-\n",
    "!pip install -r requirements.txt\n",
    "!pip install onnxruntime-gpu\n",
    "!python install.py --onnxruntime cuda-12.2 --skip-conda\n",
    "clear_output()\n",
    "print(\"Installed!\")\n"
   ]
  },
  {
   "cell_type": "markdown",
   "metadata": {
    "id": "2gSXQ8Rj_N-M"
   },
   "source": [
    "---\n",
    "\n",
    "**Running FaceFusion 2.6.1**\n",
    "\n",
    "---"
   ]
  },
  {
   "cell_type": "code",
   "execution_count": null,
   "metadata": {
    "cellView": "form",
    "id": "cjkYg0sc-FuG"
   },
   "outputs": [],
   "source": [
    "#@markdown # Option 2 : Running On Local\n",
    "#@markdown _See how to Use this option down below_\n",
    "\n",
    "!npm install -g localtunnel\n",
    "!pip install colorama\n",
    "\n",
    "import subprocess\n",
    "import threading\n",
    "import time\n",
    "import socket\n",
    "import urllib.request\n",
    "\n",
    "def iframe_thread(port):\n",
    "    while True:\n",
    "        time.sleep(0.5)\n",
    "        sock= socket.socket(socket.AF_INET, socket.SOCK_STREAM)\n",
    "        result = sock.connect_ex(('127.0.0.1', port))\n",
    "        if result == 0:\n",
    "            break\n",
    "        sock.close()\n",
    "\n",
    "        from colorama import Fore, Style\n",
    "    print (Fore.GREEN + \"\\nIP: \", Fore. RED, urllib.request.urlopen('https://ipv4.icanhazip.com').read().decode('utf8').strip(\"\\n\"), \"\\n\", Style. RESET_ALL)\n",
    "    p = subprocess.Popen([\"lt\", \"--port\", \"{}\".format(port)], stdout=subprocess.PIPE)\n",
    "    for line in p.stdout:\n",
    "        print(line.decode(), end='')\n",
    "threading.Thread (target=iframe_thread, daemon=True, args=(7860,)).start()\n",
    "\n",
    "\n",
    "!python facefusion.py run --open-browser"
   ]
  }
 ],
 "metadata": {
  "accelerator": "GPU",
  "colab": {
   "provenance": []
  },
  "kernelspec": {
   "display_name": "Python 3 (ipykernel)",
   "language": "python",
   "name": "python3"
  },
  "language_info": {
   "codemirror_mode": {
    "name": "ipython",
    "version": 3
   },
   "file_extension": ".py",
   "mimetype": "text/x-python",
   "name": "python",
   "nbconvert_exporter": "python",
   "pygments_lexer": "ipython3",
   "version": "3.12.3"
  }
 },
 "nbformat": 4,
 "nbformat_minor": 4
}
